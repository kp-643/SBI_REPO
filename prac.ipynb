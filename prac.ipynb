{
 "cells": [
  {
   "cell_type": "code",
   "execution_count": 10,
   "id": "868faba4-234e-459a-b6ec-a0250405c173",
   "metadata": {
    "collapsed": true,
    "jupyter": {
     "outputs_hidden": true
    }
   },
   "outputs": [
    {
     "name": "stdout",
     "output_type": "stream",
     "text": [
      "in forward direction\n",
      "i\n",
      " \n",
      "w\n",
      "o\n",
      "r\n",
      "k\n",
      " \n",
      "i\n",
      "n\n",
      " \n",
      "m\n",
      "i\n",
      "n\n",
      "d\n",
      "t\n",
      "r\n",
      "e\n",
      "e\n",
      "in backward direction\n",
      "e\n",
      "e\n",
      "r\n",
      "t\n",
      "d\n",
      "n\n",
      "i\n",
      "m\n",
      " \n",
      "n\n",
      "i\n",
      " \n",
      "k\n",
      "r\n",
      "o\n",
      "w\n",
      " \n",
      "i\n"
     ]
    }
   ],
   "source": [
    "#1-Write a Program to access each Character of String in Forward and Backward Direction by using while Loop?\n",
    "#in forward direction\n",
    "s=\"i work in mindtree\"\n",
    "count=0\n",
    "l=len(s)\n",
    "print(\"in forward direction\")\n",
    "while count<l:\n",
    "    \n",
    "    print(s[count])\n",
    "    count +=1\n",
    "\n",
    "#in backword direction\n",
    "print(\"in backward direction\")\n",
    "count=l-1\n",
    "while count>=0:\n",
    "    print(s[count])\n",
    "    count -=1\n",
    "\n",
    "\n",
    "\n",
    "\n"
   ]
  },
  {
   "cell_type": "code",
   "execution_count": 58,
   "id": "5f6caca8-817d-4959-870c-86707637b6ff",
   "metadata": {},
   "outputs": [
    {
     "name": "stdout",
     "output_type": "stream",
     "text": [
      "index of i is 0 \n",
      "index of   is 1 \n",
      "index of l is 2 \n",
      "index of o is 3 \n",
      "index of v is 4 \n",
      "index of e is 5 \n",
      "index of   is 6 \n",
      "index of m is 7 \n",
      "index of i is 8 \n",
      "index of n is 9 \n",
      "index of d is 10 \n",
      "index of t is 11 \n",
      "index of r is 12 \n",
      "index of e is 13 \n",
      "index of e is 14 \n"
     ]
    }
   ],
   "source": [
    "# 2-Program to display all index of given string\n",
    "s=\"i love mindtree\"\n",
    "count = 0\n",
    "res=[]\n",
    "while count<len(s):\n",
    "    if s[count] not in res:\n",
    "        i=s.find(s[count])\n",
    "        res.append(s[count])\n",
    "        print(\"index of {} is {} \".format(s[count],i))\n",
    "    else:\n",
    "        i=s.find(s[count],i+1,len(s))\n",
    "        print(\"index of {} is {} \".format(s[count],i))\n",
    "    count+=1"
   ]
  },
  {
   "cell_type": "code",
   "execution_count": 66,
   "id": "5a6dd9a6-2fc5-4813-b7f3-8e553e85a14c",
   "metadata": {},
   "outputs": [
    {
     "name": "stdout",
     "output_type": "stream",
     "text": [
      "eertdnim\n"
     ]
    }
   ],
   "source": [
    "#Q1) Write a Program to Reverse the given String\n",
    "s=\"mindtree\"\n",
    "print(s[::-1])"
   ]
  },
  {
   "cell_type": "code",
   "execution_count": 102,
   "id": "7ffa9382-911b-432c-836c-03886ccce72b",
   "metadata": {
    "scrolled": true
   },
   "outputs": [
    {
     "name": "stdout",
     "output_type": "stream",
     "text": [
      "4\n",
      "Easy very is Python Learning "
     ]
    }
   ],
   "source": [
    "#Q2) Program to Reverse Order of Words\n",
    "#Input: Learning Python is very Easy Output: Easy Very is Python Learning\n",
    "s=\"Learning Python is very Easy\"\n",
    "res=0\n",
    "l=len(s.split(\" \"))-1\n",
    "\n",
    "while res<=l:\n",
    "    print(s.split(\" \")[l-res],end =\" \")\n",
    "    res +=1\n"
   ]
  },
  {
   "cell_type": "code",
   "execution_count": null,
   "id": "021d9be0-dd6c-4343-9c59-641ffa46f5ef",
   "metadata": {},
   "outputs": [],
   "source": [
    "Q3) Program to Reverse Internal Content of each Word"
   ]
  },
  {
   "cell_type": "code",
   "execution_count": null,
   "id": "bca54246-70a2-4e04-9a10-9afe8a9a3f0c",
   "metadata": {},
   "outputs": [],
   "source": [
    "Q4) Write a Program to Print Characters at Odd Position and Even Position for the given String?"
   ]
  },
  {
   "cell_type": "code",
   "execution_count": null,
   "id": "51f53860-a3fb-40d2-aa24-9522b22e7806",
   "metadata": {},
   "outputs": [],
   "source": [
    "Q5) Program to Merge Characters of 2 Strings into a Single String by taking Characters alternatively"
   ]
  },
  {
   "cell_type": "code",
   "execution_count": null,
   "id": "7ae21da2-4a1a-4552-bd69-f27b43848785",
   "metadata": {},
   "outputs": [],
   "source": [
    "Q6) Write a Program to Sort the Characters of the String and First Alphabet Symbols followed by Numeric Values"
   ]
  },
  {
   "cell_type": "code",
   "execution_count": null,
   "id": "8bccc4e0-6d93-48ce-999a-15063d7ae147",
   "metadata": {},
   "outputs": [],
   "source": [
    "Q7) Write a Program for the following Requirement\n",
    "Input: a4b3c2 Output: aaaabbbcc"
   ]
  },
  {
   "cell_type": "code",
   "execution_count": null,
   "id": "2605e7a6-869b-4eb3-a547-df556856c115",
   "metadata": {},
   "outputs": [],
   "source": [
    "Q8) Write a Program to perform the following Activity\n",
    "Input: a4k3b2 Outpt: aeknbd"
   ]
  },
  {
   "cell_type": "code",
   "execution_count": null,
   "id": "5df7f05f-ac1e-4d1d-b06d-e292265a8949",
   "metadata": {},
   "outputs": [],
   "source": [
    "Q9) Write a Program to Remove Duplicate Characters from the given Input String? Input: ABCDABBCDABBBCCCDDEEEF"
   ]
  },
  {
   "cell_type": "code",
   "execution_count": null,
   "id": "b725c86a-ef78-41ab-8fa5-f509dec253ac",
   "metadata": {},
   "outputs": [],
   "source": [
    "Write a Program to find the Number of Occurrences of each Character present in the given String?"
   ]
  },
  {
   "cell_type": "code",
   "execution_count": null,
   "id": "a93d072e-7dcb-4250-a744-2086de902487",
   "metadata": {},
   "outputs": [],
   "source": [
    "Q11) Write a Program to perform the following Task?"
   ]
  },
  {
   "cell_type": "code",
   "execution_count": null,
   "id": "3f0fdd37-8b96-4143-8e58-e0206fe6f58a",
   "metadata": {},
   "outputs": [],
   "source": []
  },
  {
   "cell_type": "code",
   "execution_count": null,
   "id": "80f9d6c2-865f-456e-9ed5-34baf34b9b21",
   "metadata": {},
   "outputs": [],
   "source": [
    "#types of variables\n",
    "#1-INSTANCE VARIABLE (OBJECT LEVEL VAR) (if the value of the variable changes object to object then this kind of object is known as instance variable)\n",
    "    #it is declared in constructor/instance method using self.var_name\n",
    "#2-STATIC VARIABLE(CLASS LEVEL VAR) (if the value of the variable is static or unvaried , declared outside method but inside class)\n",
    "#3-LOCAL VARIABLE ()(to meet temprory requrements)\n",
    "class TelecomOSS:\n",
    "    "
   ]
  },
  {
   "cell_type": "code",
   "execution_count": null,
   "id": "4a6eb715-87bb-46a8-a07b-ae9aff0e007a",
   "metadata": {},
   "outputs": [],
   "source": []
  }
 ],
 "metadata": {
  "kernelspec": {
   "display_name": "Python 3 (ipykernel)",
   "language": "python",
   "name": "python3"
  },
  "language_info": {
   "codemirror_mode": {
    "name": "ipython",
    "version": 3
   },
   "file_extension": ".py",
   "mimetype": "text/x-python",
   "name": "python",
   "nbconvert_exporter": "python",
   "pygments_lexer": "ipython3",
   "version": "3.12.4"
  }
 },
 "nbformat": 4,
 "nbformat_minor": 5
}
